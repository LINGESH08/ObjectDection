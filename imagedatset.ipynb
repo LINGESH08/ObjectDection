{
 "cells": [
  {
   "cell_type": "code",
   "execution_count": 2,
   "metadata": {},
   "outputs": [],
   "source": [
    "import cv2\n",
    "import numpy as np\n",
    "import os"
   ]
  },
  {
   "cell_type": "code",
   "execution_count": 3,
   "metadata": {},
   "outputs": [],
   "source": [
    "image_dir = 'archive2/deepfashion2/images'"
   ]
  },
  {
   "cell_type": "code",
   "execution_count": 4,
   "metadata": {},
   "outputs": [],
   "source": [
    "def preprocess_image(image_path, target_size=(224, 224)):\n",
    "    image = cv2.imread(image_path)\n",
    "    image = cv2.resize(image, target_size)\n",
    "    image = image / 255.0  # Normalize to [0, 1]\n",
    "    return image\n",
    "\n",
    "# Preprocess all images\n",
    "for image_file in os.listdir(image_dir):\n",
    "    image_path = os.path.join(image_dir, image_file)\n",
    "    processed_image = preprocess_image(image_path)\n",
    "    # Save or use the processed_image as needed"
   ]
  },
  {
   "cell_type": "code",
   "execution_count": 5,
   "metadata": {},
   "outputs": [],
   "source": [
    "import pandas as pd"
   ]
  },
  {
   "cell_type": "code",
   "execution_count": 6,
   "metadata": {},
   "outputs": [],
   "source": [
    "csv_file = 'archive2/deepfashion2/styles.csv'"
   ]
  },
  {
   "cell_type": "code",
   "execution_count": 7,
   "metadata": {},
   "outputs": [],
   "source": [
    "annotations_df = pd.read_csv(csv_file, delimiter=';') \n"
   ]
  },
  {
   "cell_type": "code",
   "execution_count": 8,
   "metadata": {},
   "outputs": [],
   "source": [
    "# Create lists to store image IDs, bounding boxes, and labels\n",
    "image_ids = []\n",
    "bounding_boxes = []\n",
    "labels = []"
   ]
  },
  {
   "cell_type": "code",
   "execution_count": 9,
   "metadata": {},
   "outputs": [
    {
     "name": "stdout",
     "output_type": "stream",
     "text": [
      "Error: Missing required columns in the CSV file.\n"
     ]
    }
   ],
   "source": [
    "# Check if required columns exist\n",
    "required_columns = ['image_id', 'bbox_xmin', 'bbox_ymin', 'bbox_xmax', 'bbox_ymax', 'category']\n",
    "if all(col in annotations_df.columns for col in required_columns):\n",
    "    # Iterate over the rows in the DataFrame\n",
    "    for _, row in annotations_df.iterrows():\n",
    "        try:\n",
    "            # Extract image ID, bounding box, and label\n",
    "            image_id = row['image_id']\n",
    "            bbox = [row['bbox_xmin'], row['bbox_ymin'], row['bbox_xmax'], row['bbox_ymax']]\n",
    "            label = row['category']\n",
    "\n",
    "            # Append the data to respective lists\n",
    "            image_ids.append(image_id)\n",
    "            bounding_boxes.append(bbox)\n",
    "            labels.append(label)\n",
    "        except KeyError as e:\n",
    "            print(f\"Missing data in row {_}: {e}\")\n",
    "else:\n",
    "    print(\"Error: Missing required columns in the CSV file.\")\n",
    "\n",
    "# Example of how to use the parsed data\n",
    "for i in range(len(image_ids)):\n",
    "    print(f\"Image ID: {image_ids[i]}\")\n",
    "    print(f\"Bounding Box: {bounding_boxes[i]}\")\n",
    "    print(f\"Label: {labels[i]}\")"
   ]
  },
  {
   "cell_type": "code",
   "execution_count": 10,
   "metadata": {},
   "outputs": [],
   "source": [
    "import tensorflow as tf"
   ]
  },
  {
   "cell_type": "code",
   "execution_count": 11,
   "metadata": {},
   "outputs": [],
   "source": [
    "def load_image(image_path):\n",
    "    image = tf.io.read_file(image_path)\n",
    "    image = tf.image.decode_jpeg(image, channels=3)\n",
    "    image = tf.image.resize(image, [224, 224])\n",
    "    image = image / 255.0  # Normalize to [0, 1]\n",
    "    return image\n",
    "\n",
    "def load_data(image_paths, labels):\n",
    "    images = [load_image(p) for p in image_paths]\n",
    "    labels = tf.convert_to_tensor(labels)\n",
    "    return tf.data.Dataset.from_tensor_slices((images, labels))"
   ]
  },
  {
   "cell_type": "code",
   "execution_count": 12,
   "metadata": {},
   "outputs": [
    {
     "name": "stdout",
     "output_type": "stream",
     "text": [
      "True\n"
     ]
    }
   ],
   "source": [
    "import os\n",
    "print(os.path.exists('archive2/deepfashion2/images'))\n"
   ]
  },
  {
   "cell_type": "code",
   "execution_count": 13,
   "metadata": {},
   "outputs": [
    {
     "name": "stdout",
     "output_type": "stream",
     "text": [
      "Columns in the CSV file: Index(['id', 'gender', 'masterCategory', 'subCategory', 'articleType',\n",
      "       'baseColour', 'season', 'year', 'usage', 'productDisplayName'],\n",
      "      dtype='object')\n"
     ]
    }
   ],
   "source": [
    "import pandas as pd\n",
    "\n",
    "# Load the CSV file\n",
    "annotations_df = pd.read_csv(csv_file, on_bad_lines='skip')\n",
    "\n",
    "# Print column names\n",
    "print(\"Columns in the CSV file:\", annotations_df.columns)\n"
   ]
  },
  {
   "cell_type": "code",
   "execution_count": 14,
   "metadata": {},
   "outputs": [],
   "source": [
    "import pandas as pd\n",
    "import cv2\n",
    "import numpy as np\n",
    "import os\n",
    "from sklearn.model_selection import train_test_split"
   ]
  },
  {
   "cell_type": "code",
   "execution_count": 15,
   "metadata": {},
   "outputs": [],
   "source": [
    "def load_data(image_dir, csv_file, image_size=(224, 224)):\n",
    "    # Load annotations from CSV\n",
    "    annotations_df = pd.read_csv(csv_file, on_bad_lines='skip')\n",
    "    \n",
    "    # Print columns to find the correct names\n",
    "    print(\"Columns in the CSV file:\", annotations_df.columns)\n",
    "    \n",
    "    images = []\n",
    "    labels = []\n",
    "    \n",
    "    # Iterate over the DataFrame\n",
    "    for _, row in annotations_df.iterrows():\n",
    "        # Construct the image filename based on the 'id' column\n",
    "        image_filename = f\"{row['id']}.jpg\"  # Adjust if your image filenames have a different extension or format\n",
    "        image_path = os.path.join(image_dir, image_filename)  # Construct full path\n",
    "        \n",
    "        # Load image\n",
    "        image = cv2.imread(image_path)\n",
    "        if image is None:\n",
    "            print(f\"Warning: Unable to load image at {image_path}\")\n",
    "            continue\n",
    "        \n",
    "        # Resize image to the desired size\n",
    "        image = cv2.resize(image, image_size)\n",
    "        \n",
    "        # Use a relevant column for the label; you might choose 'masterCategory', 'subCategory', etc.\n",
    "        label = row['masterCategory']  # Adjust as needed\n",
    "        \n",
    "        # Append image and label\n",
    "        images.append(image)\n",
    "        labels.append(label)\n",
    "    \n",
    "    # Convert to numpy arrays\n",
    "    images = np.array(images)\n",
    "    labels = np.array(labels)\n",
    "    \n",
    "    return images, labels\n"
   ]
  },
  {
   "cell_type": "code",
   "execution_count": 16,
   "metadata": {},
   "outputs": [],
   "source": [
    "image_dir = '/Users/lingesh_08/Desktop/VS CODE/archive2/deepfashion2/images'\n",
    "csv_file = '/Users/lingesh_08/Desktop/VS CODE/archive2/deepfashion2/styles.csv'"
   ]
  },
  {
   "cell_type": "code",
   "execution_count": 17,
   "metadata": {},
   "outputs": [
    {
     "name": "stdout",
     "output_type": "stream",
     "text": [
      "Columns in the CSV file: Index(['id', 'gender', 'masterCategory', 'subCategory', 'articleType',\n",
      "       'baseColour', 'season', 'year', 'usage', 'productDisplayName'],\n",
      "      dtype='object')\n",
      "Warning: Unable to load image at /Users/lingesh_08/Desktop/VS CODE/archive2/deepfashion2/images/39403.jpg\n"
     ]
    },
    {
     "name": "stderr",
     "output_type": "stream",
     "text": [
      "[ WARN:0@42.917] global loadsave.cpp:241 findDecoder imread_('/Users/lingesh_08/Desktop/VS CODE/archive2/deepfashion2/images/39403.jpg'): can't open/read file: check file path/integrity\n"
     ]
    },
    {
     "name": "stdout",
     "output_type": "stream",
     "text": [
      "Warning: Unable to load image at /Users/lingesh_08/Desktop/VS CODE/archive2/deepfashion2/images/39410.jpg\n"
     ]
    },
    {
     "name": "stderr",
     "output_type": "stream",
     "text": [
      "[ WARN:0@46.701] global loadsave.cpp:241 findDecoder imread_('/Users/lingesh_08/Desktop/VS CODE/archive2/deepfashion2/images/39410.jpg'): can't open/read file: check file path/integrity\n"
     ]
    },
    {
     "name": "stdout",
     "output_type": "stream",
     "text": [
      "Warning: Unable to load image at /Users/lingesh_08/Desktop/VS CODE/archive2/deepfashion2/images/39401.jpg\n"
     ]
    },
    {
     "name": "stderr",
     "output_type": "stream",
     "text": [
      "[ WARN:0@53.513] global loadsave.cpp:241 findDecoder imread_('/Users/lingesh_08/Desktop/VS CODE/archive2/deepfashion2/images/39401.jpg'): can't open/read file: check file path/integrity\n"
     ]
    },
    {
     "name": "stdout",
     "output_type": "stream",
     "text": [
      "Warning: Unable to load image at /Users/lingesh_08/Desktop/VS CODE/archive2/deepfashion2/images/39425.jpg\n"
     ]
    },
    {
     "name": "stderr",
     "output_type": "stream",
     "text": [
      "[ WARN:0@55.507] global loadsave.cpp:241 findDecoder imread_('/Users/lingesh_08/Desktop/VS CODE/archive2/deepfashion2/images/39425.jpg'): can't open/read file: check file path/integrity\n"
     ]
    },
    {
     "name": "stdout",
     "output_type": "stream",
     "text": [
      "Warning: Unable to load image at /Users/lingesh_08/Desktop/VS CODE/archive2/deepfashion2/images/12347.jpg\n"
     ]
    },
    {
     "name": "stderr",
     "output_type": "stream",
     "text": [
      "[ WARN:0@57.564] global loadsave.cpp:241 findDecoder imread_('/Users/lingesh_08/Desktop/VS CODE/archive2/deepfashion2/images/12347.jpg'): can't open/read file: check file path/integrity\n"
     ]
    }
   ],
   "source": [
    "images, labels = load_data(image_dir, csv_file)"
   ]
  },
  {
   "cell_type": "code",
   "execution_count": 18,
   "metadata": {},
   "outputs": [],
   "source": [
    "X_train, X_test, y_train, y_test = train_test_split(images, labels, test_size=0.2, random_state=42)"
   ]
  },
  {
   "cell_type": "code",
   "execution_count": 19,
   "metadata": {},
   "outputs": [],
   "source": [
    "from tensorflow.keras.utils import to_categorical"
   ]
  },
  {
   "cell_type": "code",
   "execution_count": 20,
   "metadata": {},
   "outputs": [],
   "source": [
    "# Normalize images\n",
    "X_train = X_train.astype('float32') / 255.0\n",
    "X_test = X_test.astype('float32') / 255.0"
   ]
  },
  {
   "cell_type": "code",
   "execution_count": null,
   "metadata": {},
   "outputs": [],
   "source": []
  }
 ],
 "metadata": {
  "kernelspec": {
   "display_name": "Python 3",
   "language": "python",
   "name": "python3"
  },
  "language_info": {
   "codemirror_mode": {
    "name": "ipython",
    "version": 3
   },
   "file_extension": ".py",
   "mimetype": "text/x-python",
   "name": "python",
   "nbconvert_exporter": "python",
   "pygments_lexer": "ipython3",
   "version": "3.10.4"
  }
 },
 "nbformat": 4,
 "nbformat_minor": 2
}
